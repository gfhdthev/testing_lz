{
 "cells": [
  {
   "cell_type": "code",
   "execution_count": 18,
   "metadata": {},
   "outputs": [],
   "source": [
    "from funck import ygoreck"
   ]
  },
  {
   "cell_type": "code",
   "execution_count": 5,
   "metadata": {},
   "outputs": [
    {
     "data": {
      "text/plain": [
       "'Деление на ноль невозможно'"
      ]
     },
     "execution_count": 5,
     "metadata": {},
     "output_type": "execute_result"
    }
   ],
   "source": [
    "'''Проверим для начала деление на ноль\n",
    "для этого c, d должны принимать одинаковые значения\n",
    "Программа должна вывести \"Деление на ноль невозможно\"'''\n",
    "\n",
    "ygoreck(1, 2, 3, 3, 9)"
   ]
  },
  {
   "cell_type": "code",
   "execution_count": 6,
   "metadata": {},
   "outputs": [
    {
     "data": {
      "text/plain": [
       "'Невозможно извлечь конень из отрицательного числа'"
      ]
     },
     "execution_count": 6,
     "metadata": {},
     "output_type": "execute_result"
    }
   ],
   "source": [
    "'''Далее проверим корень и бросим под него отрицательное число\n",
    "Программа должна вывести \"Невозможно извлечь конень из отрицательного числа\"'''\n",
    "\n",
    "ygoreck(1, 2, 3, 4, -9)"
   ]
  },
  {
   "cell_type": "code",
   "execution_count": 7,
   "metadata": {},
   "outputs": [
    {
     "data": {
      "text/plain": [
       "'Введенные вами значения не являются числом'"
      ]
     },
     "execution_count": 7,
     "metadata": {},
     "output_type": "execute_result"
    }
   ],
   "source": [
    "'''Далее введем в программу НЕ числа\n",
    "Программа должна вывести \"Введенные вами значения не являются числом\"'''\n",
    "\n",
    "ygoreck('', 'dafd', 0, 0, 0)"
   ]
  },
  {
   "cell_type": "code",
   "execution_count": 19,
   "metadata": {},
   "outputs": [
    {
     "data": {
      "text/plain": [
       "2.6976064390382515"
      ]
     },
     "execution_count": 19,
     "metadata": {},
     "output_type": "execute_result"
    }
   ],
   "source": [
    "'''Рабочее выполнение программы\n",
    "Программа должна вывести 2.6976'''\n",
    "\n",
    "ygoreck(10, 2, 30, 4, 5)"
   ]
  },
  {
   "cell_type": "code",
   "execution_count": 20,
   "metadata": {},
   "outputs": [
    {
     "data": {
      "text/plain": [
       "1.0994999874993745"
      ]
     },
     "execution_count": 20,
     "metadata": {},
     "output_type": "execute_result"
    }
   ],
   "source": [
    "'''Выволнение с дробными числами\n",
    "Программа должна вывести 1.0995'''\n",
    "\n",
    "ygoreck(2.4, 6.5, 1, 2, 99.99)"
   ]
  }
 ],
 "metadata": {
  "kernelspec": {
   "display_name": "Python 3",
   "language": "python",
   "name": "python3"
  },
  "language_info": {
   "codemirror_mode": {
    "name": "ipython",
    "version": 3
   },
   "file_extension": ".py",
   "mimetype": "text/x-python",
   "name": "python",
   "nbconvert_exporter": "python",
   "pygments_lexer": "ipython3",
   "version": "3.12.3"
  }
 },
 "nbformat": 4,
 "nbformat_minor": 2
}
